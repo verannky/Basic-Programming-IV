{
  "nbformat": 4,
  "nbformat_minor": 0,
  "metadata": {
    "colab": {
      "name": "Nunky Febilia Verany_Homework 1 Week 5.ipynb",
      "provenance": [],
      "collapsed_sections": []
    },
    "kernelspec": {
      "display_name": "Python 3",
      "language": "python",
      "name": "python3"
    },
    "language_info": {
      "codemirror_mode": {
        "name": "ipython",
        "version": 3
      },
      "file_extension": ".py",
      "mimetype": "text/x-python",
      "name": "python",
      "nbconvert_exporter": "python",
      "pygments_lexer": "ipython3",
      "version": "3.8.8"
    }
  },
  "cells": [
    {
      "cell_type": "markdown",
      "metadata": {
        "id": "KssoMVeaztzX"
      },
      "source": [
        "## No. 1 Haversine Distance\n",
        "\n"
      ]
    },
    {
      "cell_type": "markdown",
      "metadata": {
        "id": "5ZrwcVm9GOKv"
      },
      "source": [
        "Secara sederhana, pengaplikasian rumus di atas dalam mengukur jarak antara 2 titik longitude dan latitude adalah:\n",
        "\n",
        "\n",
        "<b>Lengkapi fungsi di bawah ini sehingga fungsi dapat menerima masukan berupa sepasang koordinat latitude dan longitude dan mengeluarkan hasil berupa jarak (dalam KM) dari kedua titik tersebut.</b>\n",
        "\n",
        "<br></br>\n",
        "<b>clue: gunakan library math untuk menghitung operasi radians, cos, sin, asin, dan sqrt (akar kuadrat)\n",
        "\n"
      ]
    },
    {
      "cell_type": "markdown",
      "metadata": {
        "id": "roiHh49gzesM",
        "outputId": "42a39528-dffa-4ec3-c9cf-8e8b3ff07fd0"
      },
      "source": [
        "JAWAB :"
      ]
    },
    {
      "cell_type": "code",
      "metadata": {
        "id": "t4AgPoZths8G",
        "colab": {
          "base_uri": "https://localhost:8080/"
        },
        "outputId": "2803d893-12fa-4005-a5a0-6b91046d0aee"
      },
      "source": [
        "from math import radians, cos, sin, asin, sqrt\n",
        "\n",
        "\n",
        "def haversine(lon1, lat1, lon2, lat2):\n",
        "    \"\"\"\n",
        "    Calculate the great circle distance between two points \n",
        "    on the earth (specified in decimal degrees)\n",
        "    \"\"\"\n",
        "    # convert decimal degrees to radians \n",
        "    lon1, lat1, lon2, lat2 = map(radians, [lon1, lat1, lon2, lat2])\n",
        "\n",
        "    # haversine formula \n",
        "    dlon = lon2 - lon1 \n",
        "    dlat = lat2 - lat1 \n",
        "    a = sin(dlat/2)**2 + cos(lat1) * cos(lat2) * sin(dlon/2)**2\n",
        "    c = 2 * asin(sqrt(a)) \n",
        "    r = 6371 # Radius of earth in kilometers. Use 3956 for miles\n",
        "    dist = c*r\n",
        "    return dist\n",
        "\n",
        "lon1 = float(input(\"Masukan longitude pertama:\"))\n",
        "lat1 = float(input(\"Masukan latitude pertama:\"))\n",
        "lon2 = float(input(\"Masukan longitude kedua:\"))\n",
        "lat2 = float(input(\"Masukan latitude kedua:\"))\n",
        "\n",
        "print(\"\\nJarak antar titik adalah %s KM\"%haversine(lon1,lat1,lon2,lat2))"
      ],
      "execution_count": null,
      "outputs": [
        {
          "output_type": "stream",
          "name": "stdout",
          "text": [
            "Masukan longitude pertama:106.816\n",
            "Masukan latitude pertama:-6.2\n",
            "Masukan longitude kedua:107.60981\n",
            "Masukan latitude kedua:-6.914\n",
            "\n",
            "Jarak antar titik adalah 118.29097141047565 KM\n"
          ]
        }
      ]
    },
    {
      "cell_type": "markdown",
      "metadata": {
        "id": "-L35p2plKTIY"
      },
      "source": [
        "## 2. K-MEANS Clustering Inference Engine\n",
        "\n",
        "K-MEANS adalah salah satu metode clustering yang menitikberatkan pada penghitungan jarak antara satu titik ke beberapa centroid cluster.\n"
      ]
    },
    {
      "cell_type": "markdown",
      "metadata": {
        "id": "n6KaawkcMF0X"
      },
      "source": [
        "Metode inferensi K-Means adalah membandingkan jarak antara satu titik baru dengan beberapa titik koordinat <i>centroid</i> hasil pemodelan.\n",
        "Semakin dekat satu titik dengan sebuah titik <i>centroid</i>, maka titik tersebut akan cenderung masuk ke dalam cluster centroid yang paling dekat.\n",
        "\n",
        "Lihat ilustrasi berikut ini:\n",
        "\n",
        "![new_point.jpg](data:image/jpeg;base64,/9j/4AAQSkZJRgABAQEAYABgAAD/4QAiRXhpZgAATU0AKgAAAAgAAQESAAMAAAABAAEAAAAAAAD/2wBDAAIBAQIBAQICAgICAgICAwUDAwMDAwYEBAMFBwYHBwcGBwcICQsJCAgKCAcHCg0KCgsMDAwMBwkODw0MDgsMDAz/2wBDAQICAgMDAwYDAwYMCAcIDAwMDAwMDAwMDAwMDAwMDAwMDAwMDAwMDAwMDAwMDAwMDAwMDAwMDAwMDAwMDAwMDAz/wAARCAHEAjwDASIAAhEBAxEB/8QAHwAAAQUBAQEBAQEAAAAAAAAAAAECAwQFBgcICQoL/8QAtRAAAgEDAwIEAwUFBAQAAAF9AQIDAAQRBRIhMUEGE1FhByJxFDKBkaEII0KxwRVS0fAkM2JyggkKFhcYGRolJicoKSo0NTY3ODk6Q0RFRkdISUpTVFVWV1hZWmNkZWZnaGlqc3R1dnd4eXqDhIWGh4iJipKTlJWWl5iZmqKjpKWmp6ipqrKztLW2t7i5usLDxMXGx8jJytLT1NXW19jZ2uHi4+Tl5ufo6erx8vP09fb3+Pn6/8QAHwEAAwEBAQEBAQEBAQAAAAAAAAECAwQFBgcICQoL/8QAtREAAgECBAQDBAcFBAQAAQJ3AAECAxEEBSExBhJBUQdhcRMiMoEIFEKRobHBCSMzUvAVYnLRChYkNOEl8RcYGRomJygpKjU2Nzg5OkNERUZHSElKU1RVVldYWVpjZGVmZ2hpanN0dXZ3eHl6goOEhYaHiImKkpOUlZaXmJmaoqOkpaanqKmqsrO0tba3uLm6wsPExcbHyMnK0tPU1dbX2Nna4uPk5ebn6Onq8vP09fb3+Pn6/9oADAMBAAIRAxEAPwD9/KKKKACiiigAooooAKKKKACiiigAooooAKKKKACiiigAooooAKKKKACiiigAooooAKKKKACiiigAooooAKKKKACiiigAooooAKKKKACiiigAooooAKKKKACiiigAooooAKKKKACiiigAooooAKKKKACiiigAooooAKKKKACiiigAooooAKKKKACiiigAooooAKKKKACiiigAooooAKKKKACiiigAooooAKKKKACiiigAooooAKKKKACiiigAooooAKKKKACiiigAooooAKKKKAGnp6UDgVz/AMUfG3/Ctfhtr/iH7N9s/sHTbjUPs/meX5/lRNJs3YO3O3GcHGehrhv2Q/2mm/ap+HF94g/sX+wjY6k+n+R9r+1b9sUUm/dsTGfNxjH8PXnjaOFqyouul7qaTem728zmliqUa0aDfvSTaXkj1uiiisTpCiiigAooooAKKKKACiiigAooooAKKKKACiiigAooooAKKKKACiiigAooooAKKKKACiiigAooooAKKKKACiiigAooooAKKKKACiiigAooooAKKKKACiiigAooooAKKKKACiiigAooooAKKKKACiiigAooooAKKKKACiiigAooooAKKKKACiiigDgf2pP+TafiB/2Leof+k0leH/8ABIX/AJN01z/sZJv/AEmta9w/ak/5Np8f/wDYt6h/6TSV4t/wSPUL+zbqeB11+4J9/wBzBXv4f/kUVv8AHH8mfPYj/kb0v8EvzPqeiiivAPoQooooAKKKKACiiigAooooAKKKKACiiigAooooAKKKKACiiigAooooAKKKKACiiigAooooAKKKKACiiigAooooAKKKKACiiigAooooAKKKKACiiigAooooAKKKKACiiigAooooAKKKKACiiigAooooAKKKKACiiigAooooAKKKKACiiigAooooA8//AGp32fsz/EDP/Qu6gPxNtIB/OvGf+CSX/Jtepf8AYen/APRNvXsn7WHH7Mfj7/sX73/0Q9eN/wDBJL/k2vUv+w9P/wCibevoMOv+Eaq/78fyZ87iP+RzS/wP8z6mooor58+iCiiigAooooAKKKKACiiigAooooAKKKKACiiigAooooAKKKKACiiigAooooAKKKKACiiigAooooAKKKKACiiigAooooAKKKKACiiigAooooAKKKKACiiigAooooAKKKKACiiigAooooAKKKKACiiigAooooAKKKKACiiigAooooAKKKKACiiigDz39rH/AJNk8f8A/Yv3v/oh68h/4JMRCP8AZkvGHWTXLhj9fLhH9K9d/ayYJ+zJ4+5/5gF6Of8Arg9eSf8ABJv/AJNiuP8AsNXH/oEVfQ0P+RNV/wAcfyZ87W/5HVP/AAP8z6eooor54+iCiiigAooooAKKKKACiiigAooooAKKKKACiiigAooooAKKKKACiiigAooooAKKKKACiiigAooooAKKKKACiiigAooooAKKKKACiiigAooooAKKKKACiiigAooooAKKKKACiiigAooooAKKKKACiiigAooooAKKKKACiiigAooooAKKKKACiiigDzf9sH/k17x5/wBgO6/9FmvKf+CTn/JsVx/2G7j/ANAir1b9sE/8YvePP+wHdf8Aos15Z/wShh8r9l52znzNYuG6f7MY/pX0VD/kR1P+vi/I+crf8jqn/gf5n03RRRXzp9GFFFFABRRRQAUUUUAFFFFABRRRQAUUUUAFFFFABRRRQAUUUUAFFFFABRRRQAUUUUAFFFFABRRRQAUUUUAFFFFABRRRQAUUUUAFFFFABRRRQAUUUUAFFFFABRRRQAUUUUAFFFFABRRRQAUUZooAFGKRl3VQ0TxLYeJDefYbyG6+wXL2dz5T7vJmTG6NvRhkZHvV8NmjVbgnfYWiiigAooooAKKKKACiiigAooooAKKKKAPNf2wRj9l7x7/2BLr/ANFmvMf+CU3/ACa3/wBxW5/9kr0j9tA7f2WPHWP+gRMP0rzf/glL/wAmuD/sLXP/ALJX0VFf8IdR/wDTxf8ApJ87W/5HUP8AA/zPpiiiivnT6IKKKKACiiigAooooAKKKKACiiigAooooAKKKKACiiigAooooAKKKKACiiigAooooAKKKKACiiigAooooAKKKKACiiigAooooAKKKKACiiigAooooAKKKKACiiigAooooAKKKKACiiigBnWsP4k+PLL4X/D3XPEmpMVsNBsJr+42/e8uJGdgPchcD3r5I/bq8e/tPfs2te+I/B2oaN4s8ExgzSbdFRtQ0pB181FP7xAOfMQcAHcqgZPwj8av+Cp/xe+PXwy1bwjr+o6T/ZGsokV0trp6wSsqur7Q4OQCVAPqMjvXJj8ww2CSdeWnkn917Wv8zx8Tm0aV4OLUul7f57H1V/wRM/amvviL8S/ib4d1y4El94kvZPF8IC7VM0kmy6x7ndAQPRW9OP0YPzfSv54fgR8c/EX7OPxO0/xd4XuY7bWNNWVImmj8yJlkjaNgyHhhtY9ehweoFfWnwU/4KdftP/tDeOLfw74Pt9G1nUp+SsWjoI4EBAMkjkhY0GRlmIHIHUivMyjiCljYxhUf7x3urN9dHomkrW66HDgM1jTpqnUTbvpbX9e5+tQODR1+tfKPxI8T/tHfAvwl4ZupL7wz441XWp0sr63tdIMUFhcuf3YjIdWaM8gyPtAKjhQ1fQnww+JFn4+0VFW6jl1axjRNTtjA9rNaz7RuDQyEvGCclckgjozDmvqq2BnTpKspKSd9ne1u/by7nsUcdGdV0WnFq2/W/budZRRRXGdwUUUUAFFFFABRRRQAUUUUAeX/ALaJ/wCMV/Hn/YJm/wDQa86/4JWRNF+yvGT/AMtNUuWH0+Uf0r0X9tH/AJNX8ef9gmb/ANBrz/8A4JZ/8mo2v/YRuv8A0MV9HR/5EU/+vi/9JPnav/I6h/gf5n0hRRRXzh9EFFFFABRRRQAUUUUAFFFFABRRRQAUUUUAFFFFABRRRQAUUUUAFFFFABRRRQAUUUUAFFFFABRRRQAUUUUAFFFFABRRRQAUUUUAFFFFABRRRQAUUUUAFFFFABRRRQAUUUUAFFFFABRRRQAwnI5r8QP+Crj+Erf9tXxLY+D9JsNJtdNWK3vzZDbFd3u3fNJsHCMC4RgAAWjJxliT+2HiXVJdF8O6heW9nPqE1rbSTR2sOPMuWVSRGueNzEYGe5r4u/ZI/wCCSdnpnjC4+Ifxmaz8UeNNYu5dTl0pcSadaTyuZGMvad8k8f6sZPD8MOHMcC8XhXQ5kk2r9dFrou55OaYedflpQXnfsfk9q3h++0H7N9us7qz+2wLdW/nRNH58TZ2yLkfMpwcEcHFftF/wSOfwnqH7Ffhq+8NaPp+l3knmW+t+QMzXF7E5VpJXPLMy7XAJwokAUAAAerftHfspeCP2qPBH9h+LtHjuY4UIs7uECO705jj5oZMZXouVOVbaNykCvHf+CfH7JPi79iPxv4z8H3d2uu+A9ZMer6LqUeIzBOuIpopo85WRkMRBGVIhJyD8o5cpySGBnUdGV4tLR7prz6p3bOXCYCphsQpP3ovS/b/I+rutct46+FeleO54LqYT2OrWgK2up2Mnk3lqDyQsg6qT1RgyN3U11IpD717MZOLvFnvSpxkrSR51/wAJz4g+FI8vxZbnWNHXga9psB3RD1urZcsnvJFuTqSsYrudH1qz8Q6XDe6fdW95Z3CiSGaFxJHKp6FWGQR9Ktla4PWvg62kanPq3g++/wCEc1KZzLcQCPzdN1Bu5mgBADHvJGUf1LAYra8Km+j79H8un9aHP+8p/DrHt1X+Z3hPFHauH8P/ABiWLWING8UWLeGtanbZbiSTzLHUW/6d7jADn/YcJJ/sY5ruAM9KyqU5Q0kv8n6M2p1IzV4jqKM0VJoFFFFABRRRQB5T+23I0P7Kfjph/wBAtx+BIB/nXD/8Esf+TUbP/sJXX/oQruP24v8Ak0/xz/2DW/8AQlrh/wDglopX9lCzyOuo3RHv8wr6Sn/yIp/9fF/6SfO1P+R3H/r2/wAz6Oooor5s+iCiiigAooooAKKKKACiiigAooooAKKKKACiiigAooooAKKKKACiiigAooooAKKKKACiiigAooooAKKKKACiiigAooooAKKKKACiiigAooooAKKKKACiiigAooooAKKKKACiiigAoor5J/aU/aQ1Mft16T8Krf4sD4UNZ+G9N8RaPYwWFhfX3xFvrrULyGTT44LqKSSW3todP3XAtGimVb+OQzQpGWIB9bUV+Wf7P37cfx4+P3wZ1jxtpfxg+Fr+IfHE/hrRdK8I6NrNh4ok+H+qavqUAYX1ommWN1ZG0sxdiW0uri7lkeGbE0BhJboNK/aA8SN+0d8LdH8XftHePNJ0PQfEfxD1CG7mGhafJ44tfDVxbWE1jdRpp8cNyyvNqBMdvHGwitmlCiWJLlAD9LKK/MDxl+1V8Vvhd8HPh3b/ABR/aI1b4b+KfiB8P7jx4j2+iaEdQ1HWBFbx23hjRrabT5FuirXStPGI57uaUwCEwRuYzJ4j/bF8U+GviVcS+O/GulfA+68SapbeGde8Y6VomkvqV7Lo3h2zvZtLsJbqCdZ55tW1a7iggmjuXC2l2kMavLvUA/Tuivyx+GviX4Y6nN+wvoHjLxx4VtfiprWvSfEbVdH1fxFFa3sVxq1nqOqA/wBmCZIkvp9U1C3RJBCXI+0RRsVdg36nUAFFFFAGf4h8OWHizSJtP1Kzt9QsrhdksFxGJI5B6FTwa4keEvEvwo+fw3cTeJNDjPzaLf3H+lWy+ltcueQO0c5I7CRAMV6JjFGN1aU6zirPVdnt/XpYynRjJ32fdbnOeB/idpPj9Z47OSaHULTAu9PuozBeWRPQSRN8wB7MMq3VSRzXRqNormvHXwu0rx+IZruOW21Kzz9j1Kzcw3lmT12SDnB7qco38SkcVz7eMvEnwr+XxLby+INETpren2/+kQD1ubZATgd5IQR1JjjAzV+zjPWm9ez3+T6/n6ke0nDSrt3W3zXQ9HoqjoPiGz8UaRBfadd219Z3Sb4p7eQSRyr6qw4NXqwaadmbxkmroKKKKBnlH7cX/Jp/jj/sGt/6Etcd/wAEu/8Ak0jS/wDr+u//AEaa679uqbyP2TfGzdc2G383Qf1rkf8Agl3/AMmkaX/1/Xf/AKNNfSU/+RFL/r4v/ST5up/yPI/9e3+Z9EUUUV82fSBRRRQAUUUUAFFFFABRRRQAUUUUAFFFFABRRRQAUUUUAFFFFABRRRQAUUUUAFFFFABRRRQAUUUUAFFFFABRRRQAUUUUAFFFFABRRRQAUUUUAFFFFABRRRQAUUUUAFFFFABRRRQAUUUUAFFFFABRRRQAUUUUAFFFFABRRRQAUEZFFFAHC638HRZ6zPrHhS+PhvWJ28y4VI/MsdRb1uLfIBY/89EKSf7RHFJoXxgbTtVg0jxbY/8ACN6tcP5VvK0vm6fqDdhBcYA3HtHIEk64VgM13WOMVS1vQrPxNpE9jqFrb3lndIY5reeMSRyKezKcgitlWTXLUV/Pqv6/qxzui4vmpu3l0fy6fIuHnpg0Y+XivOz4K8RfCv8AeeFrhta0ZTk6HqNwfMhHpbXLZK+0cu5egDxiug8D/FLSvHck1tbyTWmqWYBu9NvI/IvLTPQvGedp7OuUb+FjSlRaXNB3X5eq6fkEayb5Zqz/AD9H1OH/AG8v+TSfG3/Xkv8A6MSuV/4Je/8AJo+l/wDX7d/+jTXVft5f8mk+Nv8AryX/ANGJXN/8EyBj9kHQve5vCff/AEiSvfp/8iGX/Xxf+kniS/5Hkf8Ar2//AEo+gqKKK+bPowoozRQAUUUUAFFFFABRRRQAUUUUAFFFFABRRRQAUUUUAFFFFABRRRQAUUUUAFFFFABRRRQAUUUUAFFFFABRRRQAUUUUAFFFFABRRRQAUUUUAFFFFABRRRQAUUUUAFFFFABRRRQAUUUUAFFFFABRRRQAUUUUAFFFFABRRRQAUUUUAFFFFACFcmub8dfDPSfHyQNfQyR3lmS1pe20hgu7Nj3jlXDLnuM7W6MCOK6WinGTi7xZMoRkrSPmn9s278WeDv2YfF+nawqeItKmtFih1eBUhubcmRMC5h4VsnjzIe5GY1GWrU/4JkNu/ZB0H1F1efh/pD1uft//APJoXjX/AK9ov/R8dea/8E+Pha+ofsu6JrehapceH9eee6Ekqr51rehZ3CrcW5IWTA4DKUkAAAcDivq4ONTIpOVl+9Wy0vy9V0+SPlpKVPOoqN5fu3u9bX6d/mfV2cCl7da4DSfi7JoGow6X4xs18O30ziO3vBJ5mmX7HgCOcgbHPaKUK2eF3gZrJ/bX8Ma98Qv2Qfib4d8KarHonirxJ4Y1DSNDvmvmsRDf3Nu8Fti4X5oWM0kaiRfmUsCuWAFfKVIOHxbd+h9PTqKppHft1Oim+OvhuP4lXfhFbjULrxDp5svtdra6Vd3Is1vFuWt5JZI4mjjjb7HcAyMwRSqhipkQN0GreKtM0DVdLsb7U9PsbzXLh7TTYJ7hI5dQmWGSdo4VJBkcRRSyFVBISN26KSPzj+D/AOzNLpHxvvNa8I/BfT/g/wCEbfxN4ZvP+ESsNc0SG7sf7PstaS+LQ2N29vbzb7+zYLFKS4uopWKyPKsfK/Ab9ifSdMsPgjd3XwB8J6povgH4gy63pFtqGneD08YazokugG1fW797S8bT7ySPUpLCWS5hlSWRbS3kMBmiRpI5o9zq+rVbX5X9x+nXgP4j6L8TdP1C60O8OoWul6nd6PcTCGSOP7VazNBcRqzKA/lzJJGzJlQ8brnKsB0H3RX5wfDj9jaw/bF8GfDW38U+DPD/AI18NeC9H+JGga9a3z289mut3GtWRtXeBmHm+cLee6jk2FRmGYMrNE5xPhj/AME8PiLrP7W/gzxd8WvD/wAVNe1S10/wytn4g0WXwXdWeg28GiWlpqWlX93fKdcSKW9TU3nj02Z7eeLUmwN8k2aMdU7M/Tqivzd+FX7Cnxs03xr4P03XtI26Cup2ngnXNU/tW2mkk8JeHJrK90WeVfMLP9rmg1KJkRTKBq+ZFTa5F/8A4KcfAy4/aH/av8SeG9P+Ef8AwtPXdS+EotPD9ydQsrRfBmrS317HaawXupo2h8hiT9ptBJeQ8iKJ/MfAB+hN9erptnNcSCZo7eNpGEUTSuQBk7UUFmPHAUEnoATUPh/W4fEmhWOo26XcdvqEEdzGl3aS2k6q6hgJIZVWSJ8HlHVWU5DAEEV8CS/sUeO7/wDaYuNSuvhj5vji38aanrl58YhfabD/AG/4fm0y6gttGGyf+0Dtae1gNnNAlmn2Zp1lZ0i343hz/gmL4ll8H6PrusfD3T7r4ieF4fhbbaJf3F5aT3GjxaZLp6a8ls5lKwhreO5jnCFftcSLGfPURrQB+hWnePtD1jwtPrtprWk3Wh2vn+dqEN3G9rF5DvHPulB2Dy3jkV8n5SjA4INXtL1W313TLe9s7iG8s7yJZ4J4JBJFPGwDK6sMhlIIII4INfIH7LH7COm+B/2D/iv8HJvg34Z8GjXNT8SW3ktp+lDSfFUdzc3L2F4EtXkJiWB7WIC6jjljFuF8sKiE/Pmr/wDBPrxTrnw90LR7D9mj+wr9/Auj6B4DvhdeHrf/AIUjr9tf30t9rGyC8It2mnmtr/7RpZuLi48lUmVHRFoA/U6vLR+2T8N5fFHxE0eHxJ9u1L4U6Wus+KIbKwurr+zrY/afutHGyzyA2lwrQwl5VaIqyBioPkX7d/wFm+J37Qnw38Qa98Ef+Ggvh7oejatZT+Gh/Y0/9larPPp722pG01a4t7WXbDb3UQkEhmh80hEKzSkJL458RfDv9ur4sfEPxd8L/GHh34W2nw8stLl8WX+oaG+nOuk3OtXtxOYY9Qe7WGSG9j8svbq2Vk8xYwASAfUml6rb67plve2dxDeWd5Es8E8EgkinjYBldWGQykEEEcEGrleP/wDBP3wJrvwv/YT+C/hrxNDcW/iLQPA2i6dqcE5YyW9xFYwpJExb5mZGUqWbklcnkmvYKACiiigAooooAKKKKACiiigAooooAKKKKACiiigAooooAKKKKACiiigAooooAKKKKACiiigAooooAKKKKACiiigAooooAKKKKACiiigAooooAKKKKACiiigAooooAKKKKACiiigAooooAKKKKAPGf2/z/wAYg+Nf+vaL/wBHxVk/8E0YhH+xx4ZYfeea9Y/X7VKP6CtT/goC+z9kDxpnjNvCOfe4iFZ3/BNL/kzfwt/11vf/AErmr6SP/Ihf/X1f+knzsv8AkeL/AK9f+3Htuq6Ta69pk9neW0N5a3SGOWGaMSRyKeqsp4I9jXm/ib4OX2gaBdafosdv4h8MXkbQ3XhjWJS8JjYYZbedtzR8dI5N0fQKYhzXqJPNKRXzsajinF6rqnt/X4nvOHvKcbprZrRo8D8N/s9/B34n3VpaTeFI7PWtDh2S6bqDSQ3sSl2ZmmXf+/Dl5Q0xMgkWedS7LNKG7G//AGQvhxqf27zvCunyf2hdreT/AHhukG/IGD8sbeZNvjXCSefPvVvOk3dX44+G+k/EC1hXULdjNasZLS7gkaG6s3P8cUqkOh9cHBHBBHFc7/bnij4Vtt1iOfxXoK9NSs7cf2lar/03t0GJh/twAN/0y6tS+qUJ604pPs0vwfX+lqdjzzMoWVWtNpbNSenqr6fLT0PQIYVhjVVXaqjAHYCnbsnisvwx4q07xnpEWoaXfW+oWdxnZNBIHU44I46EHgg8g8GtQjjFKzWj3OZSUtUOooooGFFFFABRRRQAUUUUAFFFFABRRRQAUUUUAFFFFABRRRQAUUUUAFFFFABRRRQAUUUUAFFFFABRRRQAUUUUAFFFFABRRRQA0kdcgUhkUj7y/nXlX7Wv7Ncv7UXw8stBj15vDrWeopf/AGhbX7Tv2xyx7Nu9MZ83Oc/w9OePnl/+CPt4EO34nSluwOinH/pTXrYHB4GrT5sRiPZy7crl+K0PIxmMx1Kpy0MPzx78yX4M+3POX+8v50ecv95fzr4e/wCHQGqf9FK/8pL/APx+px/wSQ1wD/kqU3/gsk/+SK7f7Kyz/oM/8kkcn9pZn/0Cf+To+2vNX+8v50eYv95fzr4ff/gkv4kDnb8Tmx2JsZQf/R1Og/4JReKrbPl/FKRM9dtpMM/+Rqf9k5Z/0GL/AMAkL+1cx/6BH/4Ej7e8xf7y/nR5q/3l/OviKf8A4JW+M1A8v4pSt67oJ1/9qmmL/wAEsfHKNkfFBlIOQRHccf8AkSj+yMt/6DF/4BIX9q5j/wBAj/8AAkfcHmL/AHl/OjzF/vL+dfEZ/wCCYnxCxx8V7jPb/j5/+OVD/wAOyPiV/wBFSb/v7df/ABVH9j5d/wBBa/8AAZFf2rmH/QK//Akfce8f3hRvH94V8QQ/8E1PihAm1PitOg9FnugP/QqbN/wTd+LQf938VZGX1a8vAf5ml/Y+A/6DI/8AgMg/tbHf9Asv/AkfcAKjuPzpd6+or4ej/wCCcnxegfcnxWkRh0K316D/ADp03/BPX40IP3fxanY+janfL/jS/sfAdMXH/wABkH9r47rhZf8AgSPt3zP9paPM/wBpa+Hv+He/xv8A+irSf+Da/wD8KkX9gb46om1fi5cKF4AGs3+B+lH9jYLpi4/+AyF/bGN/6BZfej7e8xfWjzF9a+Gz+wd+0B/0Vh//AAoNR/8AiKdH+wp+0HD9z4tSLng48Q6jz/45U/2Ng/8AoLh9z/yH/bGM/wCgWX3o+4t6+tLvHrXw1N+w9+0ap/d/FiRvXd4l1Jf/AGmab/wxB+0h/wBFWb/wqNT/APjVL+x8L/0FQ+5/5B/bOK/6BZfej7m+X1WgFf7y18Pt+xp+0qinHxShb2HiG/5/OGo/+GO/2mP+im/+XFe//G6ayXDP/mKh+P8AkH9tYn/oGn+B9yb6N1fD8P7Iv7TUAwPidGf97X7xv5xU1v2Vf2ngf+Siq3PX+3bjn/yHVLI8O/8AmKp/j/kH9uV/+gWf4H3EGUd6dn3r4bT9lr9qBJMj4iL+OuTkfl5dPn/Zv/amh+749STP93V34/OMUf2DQ6Yqn97/AMg/tyv1w0/uX+Z9v7j60bjXw5/wzr+1R/0PH/lYb/4ipF+Af7VkEWF8bRtgcA6mCT+Jjqv7Bo/9BVP73/kH9u1v+gaf3L/M9z/4KIHP7HXjL/rnbf8ApVDVL/gmqcfsceFv+ut7x/29zV8wftDfCv8AaE8PfBzWbzxp4j+3eGYUi+2wfbkl8wGVAnyhQT85Q/hTP2Z/hh+0Frvwd0m+8CeIY7HwzcGc2kDXcaeXieRZPkZTjMiufxr3I5PS/sd0frELe0vzX0+G1tt+voeH/a9T+1lW9hO/Jbltrve/p09T9HMil3V8OP8ACn9rZH+XxJuHqL63wfzWk/4VZ+1x/wBDF/5PWv8A8TXh/wCr1P8A6Cqf/gX/AAD2v9YKn/QNU/8AAf8Agn3FnNHXtXxDJ4A/a8gQbdcjk7YFxZZ/Vaj/AOEI/a+/6C3/AJMWH+FH+rtP/oKpf+Bf8AP9YJ/9A1T/AMBPq7xN8IILjWJtY0G9l8N+IJiDLdWyB4L4joLmAkJN6bvlkA4V1qrp/wAXZvC13Hp/jWzj0G4lcRQajG5fS71jwAspwYXP/POUKSThWk618vxeEf2wIR8urK3+9LpzfzWqmo+Ff2vtXspLa6kiubeZDHJFKdJdJFPBBUjBB9DWyyODVp4mk1/i1Xzt+ZzyzqUXzU8PUT/w6P5X/E+6Y2yOu6kU818FeE/hv+1t4E0n7HpcslvZqxaOA3WmyLF/soHJCIOyLhR2AqrpfxD/AGstW8SXWj29839q2I3S2c0WkQS7em9VkVS6f7aZT3qf9WbtuniqTS/v/nozX/WWyXtMPUTf93/gn6A7RSbRXw3/AMZnf9NP/KJT0u/2yreL5oPN56kaPn8lNZf6tv8A6CaP/gf/AADT/WL/AKh6v/gP/BPuHH0oH4V8Of21+2R/z6H/AL96V/jTo9b/AGxkbmy3D0KaVz+Rp/6sy/6CKX/gf/AF/rIv+gep/wCA/wDBPuOivhs+Nf2wFP8AyCfyt9P/AMaP+E3/AGvv+gT/AOS9h/jR/qzP/oIpf+B/8Af+scP+fFT/AMB/4J9yUV8OP8SP2ubRVV/D6yN6i0s2z9drYpv/AAtL9rf/AKF3/wAkbX/4qj/Vmp/z/pf+B/8AAD/WSn/z5qf+A/8ABPuTOPWjcK+HE+LX7WkHzN4Z8wY6Gxt/6Nmj/hdv7WH/AEKX/lMj/wDi6P8AVmr/AM/qf/ga/wAg/wBZKf8Az5qf+As+4stR81fDf/C7f2r/APoU/wDymR//ABdOf9ob9qmJsHwQG+mkk/qHo/1ZrdK1P/wND/1kpf8APqf/AICz7kor4Z/4aL/ao/6Ef/yjt/8AF07/AIaY/aksx+88ArJk8f8AEllbH/fMlL/Vqt/z9p/+Bon/AFmo/wDPqf8A4Cz7kor4a/4an/ag/wCidr/4Irj/AOOUo/ap/aejOT8OVbHJH9hXHP5SUf6s1/8An5T/APA0V/rLQ/59z/8AAWfcW73/AEo3e/6V8N/8NiftMf8ARMf/AC3b3/45R/w2J+0x/wBEx/8ALdvf/jlT/q1if54f+BoP9ZsP/JP/AMBZ9yAnNAGK+GT+2p+0nakI3wr3n1/4RnUWz/3zLivcv2L/AI4fEn4ynxJ/wsHwn/wjH9nfZTYH+y7my+07/O8z/XM27bsj+7jG7nqK5cXkdfD0nVnKLS7STertsjqwud0cRVVGMZJvvFpbX3PdqKKK8g9gKKKKACiiigAooooAKKKKACiiigAooooAKKKKACiiigAooooAKKKKACiiigAooooAKKKKACiiigAooooAKKKKACiiigAooooAKKKKACiiigDxP/gol/yZ14y/6523/pVDUH/BNr/kzHwf9b3/ANLbik/4KRH/AIwv8YfWy/8AS2Cj/gm5x+xf4P8Are/+l1xX0X/Mg/7jf+2Hzl/+F23/AE6/9uPdKKKK+dPowooooAKKKKAAVgeNfh5pPj2xii1K18xrd/MtriN2iuLR/wC/FKpDxt7qR6dK3xwKOlEZOL5k9SZQjJWkjzoan4q+FORqSXPjDQE6XlvEP7UtF/6awoAtwB/eiCv/ANM2OWrr/C3jDTPG2jR6hpN9b6hZyEqJIX3AMOCp7qwPBU4IPBArVPNcZ4r+EVvqWsyaxot3P4c8QNjfe2igpd46LcQn5Jl7ZbDgfddetb80J/Ho+/T5r/L7jDlnT+D3l2e/yf8An952XYUZwTXAWfxcuvBtzHY+N7SLR3ZhHDq0DFtLu2PABc8wOf7kvGSArua71Zdy7l+77VnUpyhvt0fR/M0p1ozWm/bqSYoxRRUGoYoxRRQAYoxRRQAYoxRRQAYoxRRQAbR6UbR6UUUAJsHoPyo2D0H5UtFAWQmweg/KlAxRRQAUUUUAFFFFABRRRQAUUUUAFFFFABRRRQAUUUUAFFFFABRRRQAUUUUAFFFFABRRRQAUUUUAFFFFABRRRQAUUUUAFFFFABRRRQAUUHrXF/Hn416R+z18K9T8Xa5539m6X5QkWJdzsZJUiUKO53OP1ojFyaUd2TKSirs7SiooLhLmFZI2V43AZWU5DA9CDUuaCgooooA8L/4KSf8AJmXjD62X/pbb07/gnDCYP2NfBo/iIvG/A3k5H86b/wAFJP8AkzLxh9bL/wBLbep/+Cdv/Jnngz/rnc/+lU1fR/8AMh/7i/8Ath83/wAz3/uF/wC3HttFFFfOH0gUUUUAFFFFABRRRQAUUUUAVru1h1C1khnjjmhmBR43AZXU8EEHgg1wj/DXVfhsxn8E3Ua2Kn5vD99I32Ij0t5AC9sfRQGi7BFzur0IIARQBmrp1ZR0W3VPYznRUtXutn1OV8G/FjT/ABXqDaXPFdaLr0Kb5dLv1EdwAOrpglZo/wDbjZl7Eg8V1Q4rF8Y/D/SfH1gtvqlmtwsL+bBIC0c1rJ2kikUh43H95CD71y4uvFXwmOLhbrxnoC8CaKNf7Wsl/wBtBhblR6oFk/2ZCc1pywnrDR9n+j/z/Ey55w/iaruv1X6o9ENGKx/CXjTS/HOjrfaTeQ31szFC8Z5jcfeR1PKOOhVgCD1ArYDZrBpp2aszojJSV4hRRRQMKKKKACiiigAooooAKKKKACiiigAooooAKKKKACiiigAooooAKKKKACiiigAooooAKKKKACiiigAooooAKKKKACiiigAooooAKKKKACiiigAooooAKKKKADOKaz7ad1rnfiV8N9J+Lfg680HW7eS4sL4bX8qd4JYz2eORCHRh2KkH8CaI2vrsKV7aHQOtfLP/AAUE8Tx+KfGnhHwT8s1tbJN4h1OI9GADW1qjDurM9w/1thXlXxi/ZE1L9nAyXV42r+KPBseSNaivLj7Zpq/9PsSNgqB/y3jG3gl0jA3HM8M+HtL0tXvNOCyfb40JuPPaczIMlMOxOVG5iMHHzH1r5niLPPqVOVKMZczVouys79U073+R9bwzkH12rCs5xcYtOUbu6t0aaStfzPqr9hXxy3i39njTbC6kabUvCEr+HbxmOWb7PgQux6lntmgkPvIa9kzz9a/ODxXoWg6bPJqN8s8U99KkWLaadZbyUgIiJHEcySEAKFUFjgAV6v8AAb9gC78aajaa/wCN11bw9pELia18PxapP9ru8fda8kEhEa9/JjOem9/vR13ZLm8Mwgp8so93ZWvbVLW718jzs+yWWXTcVKL10jd3tfRvSy0PsodKKgtLOLT7SOCGNY4YUEcaIuFRQMAAdgBU9eweIeD/APBSmRk/Y18VejSWQP0+2Qn+gq3/AME7f+TPPBn/AFzuf/Sqaqf/AAUt/wCTN/FP/XWy/wDSuGrv/BO8bP2O/BmQR+6uTz73UtfRv/kQr/r7/wC2Hza/5Hv/AHC/9uPbKKKK+cPpAooooAKKKKACiiigAooooAKKKKACiiigDj/F3wks9b1dtX0u4uPD/iIqB/aNlgGcDok8Z+SdPZxkDO1lPNZsHxXvvAssdr44tIdNj3BE1u2ydLnJ4G8nLWzH0k+TJAEjHivQiM1DdW0d5A0cqrJHICrIwyrA8EEdxW0a11y1FdfivR/pqjnlRs+am7P8H6r9R0UiyqGUhlYZBByDT+a8+k+GGo/D2ZrjwPdQ2trndJoF4zf2e/tCwBa1P+4Gj/6Z5OauaJ8S7Pxx9o0G7/tDwv4ilgdTZXGyO6QYwZrd/mjmVc5DpuAONwB+WlKjpzQd1+K9V+uw41teWorP8H6P+mfPdj/wWY+F8XhDWvEmuaP4y8G+E9P0iXWtO17xCmn2Nh4jhj1CPTf9FZrstGHu5oUjkulghkWQSLIYg0iw6L/wWl+F+pfBSbx1caH40s9MGga3r9lFF/ZmpnW10q+sdPltrG4sb24tLyea71K0gh8id42lkMbSI6so63V/+CYXge68E+H9E0zX/Gvh/wD4Q/wz4b8MeHL2wubRrjQY9Cu/tdncwia3kiaZpBEJRNHJFIsEY8oYJOz48/YC8P8Axi1j4e6p448WeN/GWsfDyw1fTor2/msrX+3I9REIlN9DaW0NvIYzbwPEEijVXhjcqzKDWRub9l+2R4PvvBnxM8SRjVP+Ef8AhTa/atZ1AxxiCXGmxanIkDF/naO3ni3k7VDPt3Eq23zDw/8A8FXfDPiNptNT4a/Fq28aXD6UdB8IXVjp0Gt+KINShu7i1uLdGvfKt0+z2F7NIt9LayQLbMJUjcojaPxI/wCCfdrb/wDBOTWv2ffBGrX0Vl4isTomqazrF7nUb+1vblf7WuppkiIe6mt5bthiNYzI6piKP7jbn/gmnZzX0PiBfi58XI/iZHrX9sv4836K+sSgWD6eLT7O+mtpqWogc4jjslIkLS7vMkkdwDnpP+CsnhOTSLXxVHp/itfD9vpNv/aPhtfD0dz4gi1S88R/8I/a2qvFemMyLe299E0EcUwm8vfFPiPZLr+EP+Clt18Qvi98O/COi/Bj4jteeMr3XbXWhd6hocUvhBNHvILK9muFjv5EnSOe6tdxtpJPkmG3fKDDW74G/wCCaXw6+HGtaVeaVN4kU6TNocypPfLcm7GkfbntVnlkjaaXNzqF1dSOzmR533F8FlOn8Nv2D/D3wo+MPhzxnovibxlDeeH18RpPaSy2U1rrS65qX9p3f2ndbGUFboRvG0EkTYhjVzIowQD3WiiigAooooAKKKKACiiigAooooAKKKKACiiigAooooAKKKKACiiigAooooAKKKKACiiigAooooAKKKKACiiigAooooAKKKKACiiigAooooA81/aw+Jdx8KP2f/EWq2Mnl6tJCthpZ6/6ZcusEDY7hZJFY/7Kse2a+Ofh34V1LXjD4T8B6K/iC60O3jt5sTC3s9OREAVZ5yCqOwAxGAznOdoXLD67/aU/Zw/4aTn8L6ffa5faT4f0W/fU72CxPl3N/IImiijEv/LNAJZSxA3Z2bSpAYdx4D8A6N8MPC9tovh/TbXSdLswRFb20e1QSclj3ZickscliSSSTXm5llNDGcnt3eMbuyurt6a+ltLd9z0srzitgVU+rq05WXM7OyWui7u+t+x8Ban46n8AeJLLWLmxv9J8SfD3UYdXvdKu4wl5DAhZLgAAkOsls1wqSIWRt3BNfojZ3keo2sc8MiywzIHjdTlXUjIIPcEVxHxz/Z18M/tBaAtrrtoyXlurCy1K1YRX2nlhgmOTB+U8bkYMj4AZWFeG+Ofgd8dvh/4B8GeG/Cviyx1TQfDq22nzG3tzaX81vE4RHlYuS4EQXeI2QnBGG613ZFktKlF4anUUY3uubpfdXttdaepxZ9nlWvJYmpTcp2s+XrZ6O3TfU+sNuT0pdtcF9l+JUI/4/PBc/wD253MW7/yK2P1p32n4lRH/AI8/BU23/p6uYs/+Q2x+tdXse0l95xLEd4v7jgf+Cln/ACZz4p/662X/AKVw1qf8E/xn9kDwX/17S/8Ao+SvPf8AgoRq/jRv2VvEEWs6T4Zt9Pea0WSez1WaaYf6TGRiN7dR1AB+fpk+1av7EHiHxpZ/steEU03wzod/Ypby+VNJrrwzSDz5Osf2ZgvOf4z0/Cvo5YeTyJJNfxe6/l9T52NeP9tt2f8AD7P+btY+kd2KN3+c1wv/AAmnjhPv+B7JvXydeVs/TdEv9KP+FieLoz+8+Ht+3r5Oq2jfluda+d+rT7r/AMCX+Z9F9ah2f3P/ACO8yaMmuDPxU8SRD5vhr4sk/wCuV7pbf+hXa0n/AAt/WV/1vw78bQ/8D0+TB/4BdN/hS9hPy+9f5h9Zh5/c/wDI70nFNZs1wY+Nk0f+t8G+NovX/QopMH/gErf4Uf8AC+LZP9Z4b8aQ/wDcCuH59PkDf4e9H1efYPrVPud7vo3/AFrgv+GhdDiA8zTfG0f08Jao/Pp8luf8KeP2ifDY+/H4mh/66+GdSj/9CgHNH1eq9FF/cP6zS/mR3W4UbhXCj9o/wj/FqVzD/wBddNuY/wD0KMUL+0t4FH3vE2mxf9dXMf8A6EBVfU6/8j+5i+tUf5l953X40uK4Nv2n/hzEv7zx14Ri/wCumr26Z/76cVbg/aE8B3H+r8aeFZMddurQHH/j9ZujUW6f3FLEUntJfedfmjHP8Nc/D8W/C10D5fiPQpMddt/Ecf8Aj1X7fxlpN0P3ep6fJjg7bhD/AFqfZz6ple0g9madFRxXUc4+SRG9cNnFP3j1FTZl8yArmsbxh4F0rx5pn2PV7OO7hVhJGTlZIHHR43Uho3HZlIYdjWzvHrQDjvRFyTvHRikoyVpbHnn/ABVnwpH/AC9eNPD6f7o1ezT9EuVH/AZcD/lqxrqvCXjjSfHOkfb9Jvobq3VikhAKvA4+8kiNho3HdWAI7itgtmvKf2ovhGviz4W+LtR0GO6sfGH9hXkdpdWEhhmvH8h/LhlxxKhbAwwJXOVKtg10RlCo0p6Puv1X+RzyUqSvDVdn+j/zPx1/4K/f8HZWsfBf4w6x8O/2fdP0a4k8O3L2t94nvkW8inlQgEW8fKFc7gSc9uQcqPL/APgnT/weD/EK1+LGn6H+0Bpej694d1adLdtX0u1jsZ9OLMqhygwhQZJOfblRk1+KPxB0/UtJ8c6xbauso1SC+mjvPMO5/OEjB8nud2ee9Y8cbO+FUkk8AVTqKMuXlVu1tfv3uaRp3jzXd+99Pu2P75fCvifT/HHhrT9Y0m6hv9M1W3ju7W4hbdHcROoZHU+hBBrRHT8K+V/+CJfh/wAQeFf+CU/wPsfFSXUeuw+HUa4W5JMgVpZGjznt5bJj2xX1TjNc9SKjNxXRlU5OUFJi0UUVJoFFFFABRRRQAUUUUAFFFFABRRRQAUUUUAFFFFABRRRQAUUUUAFFFFABRRRQAUUUUAFFFFABRRRQAUUUUAFFFFABRRRQAUUUUAFfJPjH/gsR8N/h18LpvG+vaF4r0Hwdqs8EHg3XNWvNG0zTPiEJjOVk066udQjgiTyrd5gdQezLxNG0YcMK+sLyzjv7SWCRd0UyGNl9VIwRXzH4Z/4Ji2ng34XeBvDel/GP4yWt18MJ4P8AhD9bM2iy33h6zh0+bTksI4n01rSaH7PPIGkubeW5clS05MabQDLtf+CvngnVYfDMth4D+KGoQa9o2heIr24trTTnt/D1hrGoz6dZT3U320RyB54CUFo1w00TrLAJ4w7KaL/wVOmub/ULe8+CPxSWa6+IN78PfCkGnXeiX03i26s7e+lupYwL9Vto4X025jka4ZEUvAfM+aYQelax+xD4f8U3GqXOta94p1m/1vV/DetahdXElrG95LoUtvPaRssVukYieeDzZVVBlppAnlrtVa/wW/YQ0H4K+LdM1SLxV4z19dD13xL4h0uy1aWya30+4126F1dhTDbRSSBJWujE0rvIBfXAd5B5YjAOA8Y/8FZvCPhy18Q3EnhPx/pXh+y0fxBf6P4vutPsbjRden0WFpL6C1jS+F1IUMcwR5I4YLjyHMM7K0cjya//AMFCtY/4WB4O8E6D4P17VNT1Lxjp3gvVfGE+l29r4bfUUtxfaraQQHUDeiaOyiu9rhJreKaMxNNLJE8Zn07/AIJP+C10e80nV/GnxI8TaAlpLpeh6Tqd1YGz8LafPfRXlzZ2qxWcbSJN5EMDS3bXFwsCsiTR+ZIz2Lj/AIJc+Hf+Fhah4itfiR8V9Mk/tPX9c0Kzsr/T4rXwnqOtxXMd/e2Y+xl3mY3UrxtdvcCFmIjCIzowBs/sufHT4mePP2nvij4P8XN4E1rw/wCD7LS5odS8L2VzBHoeqXTXclxoNzNNcSfbbi2tBp0xuEitdy3qM1tF5iqPoevIf2PP2T1/Y5+GH/CI2fjzxl420iFzJaHxFb6THNaM7vJM++wsbUzyzzSPNNNcebLLK7uzlnYn16gD5+/4Kbf8mfa9/wBfNn/6Ux1uf8E/h/xiD4K/69pv/SiSsT/gpvx+yBr3/XzZ/wDpRHXQ/sHDH7JHgnH/AD5N/wCjXr6Wf/Ihiv8Ap6//AEk+bj/yPJf9e1/6Ueoa3rNn4a0m71LULy3sNPsIXubq6uZViht4kUs8juxAVVUEkk4ABJrxv4W/8FBvhr8cvGi6X4K1zT/FWmyaqNIi8Q6XrWmT6Rdy/wBnzX7G3lF1uuQiW8sbrAkjo6OWQRxySJe/b28Fx/En9kbxt4fk1PTdJk1izS3gutSjdrBJzKhiW52Albd5AiSNghUdieBXxU+mxeOvjzceOvGWpfB2DUvEnii88R3fhax1TUpLfU7aLwdd6AtuL19PjkvDO91asJ0tlDQsyxJM0IEny060IP32l6ux9hhctxeJTlh6UppdUm9tXsnstT7E03/gph+zxrfirwfoun/HD4W6rqHj69k0zw8mneJrS8TVrpDGpt45InZDKWljRULBneRVUFiBWhZft6fCez8Bab4k8S+N/C/gPS9ev7qx0eTxRrdjph1lYLqS2We33zYkimMe+LncySISqk7R8nfBfX/EngPVPhhqmr+K/AmpL4F8QXv2bQ7nxRqeoHw74burC3tfsMWqyaWk+p6nBJFNKlrdQRXMiTpHJMWiM8nQ/Bf9hDxN49/Z88J6fq9npMepeE/g14l+Dkv9t2s8M0t9JPbWi3SB4mJsp0sWk81SfMjljKq6tkVCpCfwtP0ZniMHiMPb28HHtdNX77o+uPE/7Tvwz8G/ES48H6z8RPAukeLbXTJNan0S9161g1GGwjRnku2t3kEiwKiOzSFdgCMScA1ry/GDwjbXVxbyeKPDsc1m9hHPG2pQh4Gv5RDYhhuypuZSEhB/1rEKm48V8e/DD/gmP4i8MftKz6x4s0fSfHPhfVNXh1yTUJfip4l0/wDsuUaNBp7xf8I6kT6XfHMMiieSSFmhuArR5i/eVP2fP+CYfxK+G/jn4Z3fiLxX4b1XTtH1JJfGrRXFw9z4gttFto7Xwvt3QgNLGYlurkyMNszMIy4O+qOc+tviF+038NPhL430vwz4q+IXgfwx4k1yS3h03StW121sr7UHuJJIrdIYZHV5GlkilRAoJdo3C5KnFDXv2ufhro/i/wAWeFrXxt4N1bx14K0qbWdW8J2niLT11qztooklLywSzp5ClZIv3k5jjHmoWdVbdXzN+1x+zF8Sv2gv2yfi9ovhnw74bh8K/ED4V+EfCup+KtbnurSbSEGseJZLmXTGjtZY7q8t45YZTbtLAA8lm7SoMboPEX/BOj4n+LvtfhS7b4c2/hTw/wCIPHHi7w94jh1K7bW9au/ENrrFvHY31qbQR28MI1uUyTx3M7SnT7YiFNxEYFkfTtx+2P8ACfSvE9noOp/En4faP4mvLd7lNEvfEthHqAVLRL2X90JiW8u1kSdiuVETrJnYQxw9E/4KJfA3xJ+yzrXxr0/4neEb/wCFvh1JH1PxDbXgmt7FkCZhkVcyCc+ZEFg2+a5ljCoS6g+U6H/wTz8SaTe+IL0z+Ev7S1X4h+CvFUd0jy+cLHRdO0i0uIWfyd3mFrO98peVK3A3Mm9wOk8Gfsi+NLz/AIJr+NvgX4gk8L6bqmoeHda8JaPqmn6hPfW9za3VvNFb3lwj28LQS5mJeBPOVNg2zSZ4BWR6Zpf7avwb13UfB9pZ/Ff4a3F58QoRceFrZPEtkZ/EkZYpus4/M3XA3qy/uw3zKR1BFaXxf+N/wv8Agdd6HD4+8YeA/B8/iS5Nno8fiDVbXT31SfKgxW4mZTK+XT5UyfmXjkV8y+NP2LvjF8TNW8QW2paT8J7PR/ikvhmbxLdjxDfXt94Uk0edHMVgradGt+jrCkkTytZm3nmlfZLgBvYfi18KPiPo/wC15oPxI8C6T4F8TWM3hp/C2r2XiHXbrR7jS4vtsdyLmzkhsrsTFxvWSF1hDGG3Pm8EBqTWwnFPc5rXf2wPBfh3xp4r0TxF8HfHeiS+HfDmseK9NmvtCsHXxZpmlTwQX01hHHcPMCjXVqRFdR28ki3EZjRxnHtVj8I/AvibSra9g8MeF7y0u4lmglGmwsskbgMrD5ehBBr5mn8B/HPwj4o+NfxG+IHgHwD4qvdQ8Nanpvhn/hGPFeoalqEGnRiR7HSLfTJNKhjWS4kYPc3H2pmkl2ZAhhgjg+mf2dvhzcfB79n7wL4SvLj7XdeF/D2n6RPOTnznt7aOJnz7lCfxp+2n0b+8n2NN9EQz/sz/AA7uGVpPAfg5yvQnRrY4/wDHKT/hmnwAo+Twf4fh/wCuVlHH/wCggV3WwUbBVRxFVbSf3k/VqX8q+44U/s3+C1/1eipD/wBcriaP/wBBYc0n/DOvhUD5IdZh/wCuOuX0f4/LMOfeu7x9KMfStPrlf+d/exfVaP8AKvuOE/4Z20DOVvPGUWOmzxdqqjP0+04P4ig/ALTU/wBVrXjaL/uZL2TB/wCByN/hXedKTdU/WKvcPqtL+VH5Ef8ABVT/AINU/B/7bHjq48cfDnxV/wAIT4w1Al9RXUIjPZ6g/H7xii7g3XnBJz1wAB5X/wAEvP8Ag0i8K/D3xno/xA+LfjSPxpb2EwubLRdOt3tYjLFJ0nZjkFXRgVUnvgggNX7lEZrhfgxu0jVPF+ht93S9dmmi/wBpLtUvMj28yeVf+AGto1pSjKbtzKzv1ts/xa1MXTUJxgr8rurdL7rztvodnZWUOmWkNvbxRw28CCOKKNQqxqBgKAOAABgCrNGcUVxnaFFGaM5oAKKKKACiiigAooooAKKKKACiiigAooooAKKKKACiiigAooooAKKKKACiiigAooooAKKKKACiiigAooooAKKKKACiiigAooooAKKKKACiiigAooooAKKKKAPnv/gp1OIv2QdcVv8Alpd2ij6+eh/pXTfsG/8AJpPgn/ryb/0Y9cp/wVB/5NH1T/r+tP8A0atdX+wb/wAmk+Cf+vJv/Rj19HP/AJEMf+vr/wDST5uH/I8l/wBe1+Z6pf2EGrWctvcRRz28yGOSKRAyyKRghgeCCDgg1n3HgbSLi6huG0uwkmtwgika2QvGEJKhTjICkkjHTJx1rYyPb8qXaDXzcop7n1EKs4fC2jKTwdpan/kGWPFz9s/490/1/wDz16f6z/a6+9av3RSDOetOJxSUUtiZTlL4mFFFFUSFFFFABRRRQAUUUUAFFFFABRRRQAUUUUAFFFFADQP0rg4T/wAI/wDtGTI3EfibQVkUdvMspirH6lbyP8Ix6Gu8zz061wvxgb+xfE/gnWh8q2OsrZXDf9MrqJ4Av4ztbn/gNbYfVuPdNfqvxSOfEaRUuzT/AEf4M+J/+Cr/AO1RrkfxF8cfCnSvijffDbUR4L0uLw5oWnWOn3Wo/ELU9dv7vTsFLmCeb7DZiCHzHtBE6m8cvKojjDYfhP8AaNuvB/xd8B6T4f8AHGj+C9N+IHxH1fTZ/DPhVPD9v401yytNRh0HSL9rS5tJXvtJ8jS7trm4QR3UUAidJTHbsi/cnxH+B+seOfE013b+OvE2i6fMFmSysnVViukULHKHILeXwC8BzFIygsuDIH5jRP2WPFWm6XGtx8WvF93fIotftG2NVa1bHmR+Xgr5pP3Lg5lQKgy37zzeKVSalZRbXqv8z3aOCwsqfPLEJPTS0uvmo20/4Y+Nf2dfi6/xA+HXw/Pi34weKPir4a1G98Z/F3xEur3GmyLZ2fh6+hFvpD/Z7aHyhFPqem3EkL4KS2QVVhhzBVHxB+2T+0F+z38Kbz/hLPiho194i1jwj4Iuda1nxIum+GfD3w8v9ZudQS5eO7TTpvKCwWaxiW9iuoxdT27mFY2Nqfvv4efs3QeE/HNr4i1fXNY8TapotvNp+hzXsxD6XZy7DJCSpHns5SPdJNuZvIhJyyF29MYVrFtq70POxEIQny05cy7pNX++zPzE+L37Z3x8+B/wL0nStH+Jnh/4l+N/G3w18QeLvD+vaXFZazpsY028a9a5+2W1ja290Bp80NosotoIpJjbnyQXYt7r8Wv2w/FvhL/gmx8aPjgfEUPh9ddivLn4bzalZwxQ6FaTJFp+kXUqtGfMW4uCl/tnDHbeLGQoXYv2UOlc78R/hfoXxb0ay07xDY/2jZafqthrcEJmkjVbyxuory0lOxhu8u4gikCtlS0a5BxVGZ+cq/t+65pWpTWutftRafpvwZ8QeJruOx+NMtnoNtFMLHSraa60zSJXtW06RJL6Z0ieWO7kKWV/EHllQSxTeB/jt8bviJ4w8C6Veava+FvilrVh4N8F3HiG68JWH9sWs80ep6/rfnRPDuhlk0mysfMtiFiiuJ9yxx4AH6bUUAfnl+y58XPHHxl/ar+CWn+JPjx4ug2+GvFutx6T/wASazHj+2j8RG30qWeFbJRK40uNmn+zLHtbynQW26QS5n7Q/wC1JrXwz/a6+PF9D+0Lqfg7T9I1rwj4Eu7DWrjSf7C+Hlje2qXsuveTNbBo3b7XJbw3E8hhe5dFn+0x20VvF+kFFAHxDoX7W/jj4ef8EzPG3xIufHC+KoY/Ec+n+EfHfiDTrW2E2h3Gqw2Nvrt5HbQ29s9tAk0tyJY4ooprWCOXO2TzD4z/AMFBdX8B/HD9lrTfBesfGDwZ8ftQ1uG5ufDGl+J/D1pJ4h8d2t9ILOJvD8lsINMbUYnjuhDqcOm3P2eGdGKxxyyTz/qJRQB8/wD7Nu7Uf2yfj5dae0jeH9Pbw9obMZXcSarBYPNdMS33nFtd6cjPkkmPaTlCB9AVzfw2+F+h/B/w02k+HbL7DZyXlzqEoknkuJbi4uJnnnmkllZpJHeSR2LMxPPoAK6SgAooooAKKKKACiiigAooooAKKKKACiiigAooooAKKKKACiiigAooooAKKKKACiiigAooooAKKKKACiiigAooooAKKKKAPnf/AIKif8mkap/1/Wn/AKNFdh+w3GsX7J3gdV6f2crfiWYn+dcb/wAFRHC/slal/tX1oB7/AL0Gu0/Yd/5NP8Df9g1f/Qmr6Sp/yIo/9fH/AOknzdP/AJHkv+va/M9Wxiiiivmz6QKKKKACiiigAooooAKKKKACiiigAooooAKKKKACiiigAooooAQjH4Vxf7QGmTat8GvEH2Zd97Z2xv7RfW4tyJ4v/Ika12ua5f4tfD8fFL4eapoP9o6jpLahCY0u7GdoZoG6qwKkEjOMqThhkHrWmHko1ItuyTX5mOITdKSiruzNrQdag8Q6Pa31q/mW13Ck8Tf3lYBgfyNXAcV4F/wTx8HW/gH4N6xoa6hb6lq2j+Ib2x1eSBy6R3URRAgJ54iWE4OMbsY4r3081WKowp1pU4PmSej7kYOrOrRjUmuVtarsOoxmgcCisTpCiiigAooooAKKKKACiiigAooooAKKKKACiiigAooooAKKKKACiiigAooooAKKKKACiiigAooooAKKKKACiiigAooooAKKKKACiiigAooooAKKKKACiiigD5x/4Km/8moXn/YStf8A0I13H7D3/Jp3gX/sGr/6E1cP/wAFTf8Ak1C8/wCwla/+hGu8/Yoh8j9lPwMOv/Erjb88n+tfR1P+RFD/AK+P/wBJPm6f/I8l/wBe1+Z6lRRRXzh9IFFFFABRRRQAUUUUAFFFFABRRRQAUUUUAFFFFABRRRQAUUUGgBoOP/11zPxi+IcPwm+FviDxLPF9oXRbGW6WEfeuHVSUiX/adtqj3YV4b8bvgh8QPBviq78QaH4u8fa/4WuD5lxollqe3UNK9Xtsg/aI8dYmIlGDtaQkJWDoHhfT/itoVpef8Jx4u8UaPHdxXBtbvVC8DTW8yyKk0e0MGSWNSUbBBXBHavyHxO8YMu4KhzZjh6rUl7s4wvBytpFyvo797G2DwtXFPkp2T83r626o1f2RdJm+BnxUj8O31x5z+ONFGo3U+fluNZtm3Xkn+/OlwH+lqa+n+RXzl4y8DweNBpzNdajpt5pN19ssrywn8m4t5DFJESrYPBjlkUjuGNcZd2XiTxP4km8O+CfGHxA8Qa/bkLeSvrnl6do2RkNdTCM4bByIUDStwdqrlx+Q+Bv0haWeYOjk2No1q2NvK7hG8eVybUm7pRSTSd+x3ZllTwrco25Omuu21u977H2EGytKrZrhvgV8K9S+FPgyOx1nxZrnjLVpG8261HUn+8392KMcRxjsMs395mruVXbX9eO2yPJi21doWiiigoKKKKACiiigAooooAKKKKACiiigAooooAKKKKACiiigAooooAKKKKACiiigAooooAKKKKACiiigAooooAKKKKACiiigAooooAKKKKACiiigAooooA+b/wDgqaf+MUbv/sI2v/oRr0D9i7/k1bwJ/wBgmH/0GvN/+CqzY/Zab/sLWv8A7PXpH7F3/Jq3gT/sEw/+g19JW/5EUP8Ar4//AEk+dpf8jqf+BfmeoUUUV82fRBRRRQAUUUUAFFFFABRRRQAUUUUAFFFFABRRRQAUUUUAFFFFADD0r5Uu/Euh2vxa+Jnji5k0/R9HS8i0U3LFYY7g2IZJpn6BpTcyTQ5OWIt4x2AH054knvrbw/fy6ZDDdalHbyPawyvsjlmCnYrN2BbAJ7CvGf2a/wBjKL4W6Pot54y1NfGHijSU8yCV4tljp07EtJLBCeszuzs075kJZtvlqdlfmvipwLX4vyVZFGqqdOpOLqO15OEXzWiu7klq9lffY0wuJdCuqiV2k7dk9tflc5Xw98WLHXNah0u90/W/Dl5qEZm06DWrJrJ9VhHWSDd1wOTGcSoCCyKCM95+w99n0b4Jf8IzDBBb3XgzUrrRboRxhDKVfzYZnx96SW3lgldjyzSMSSeT6N8QvhvofxV8NTaP4h0231LT5mEnlyZDROvKyRuCGjkU8q6EMp5BBrzT4D/s/wDiT4H/ABm8SXTa8PEHhPxDYW/kvdjbqNpc27MqiUgbZt0Um3zcK2LeMMCcu3yfhj4KUOBc4xFfJqzlha8EpQnrKM4v3WmlqmnK60t5m2OzGpiFBVVdpvVdn3XyWp7XRRRX7scoUUUUAFFFFABRRRQAUUUUAFFFFABRRRQAUUUUAFFFFABRRRQAUUUUAFFFFABRRRQAUUUUAFFFFABRRRQAUUUUAFFFFABRRRQAUUUUAFFFFABRRRQAUUUUAfM//BVn/k1w/wDYWtv5PXpP7GsJh/ZZ8Bg99Hgbj0Kgj+debf8ABVj/AJNcP/YWtv5PXp/7Hw/4xe8B/wDYEtf/AEWK+jq/8iOn/wBfH/6Sj5yj/wAjqp/gX5npNFFFfOH0YUUUUAFFFFABRRRQAUUUUAFFFFABRRRQAUUUUAFFFFABXj/xZ/bC0v4YfGKy8E2fhXxl4x1NLa11LxBPoENpLB4OsLm4a3t72/8AOuIpPKkeK5IW3SeXZaXDmMKmT7BXjfjD9jjTfF/7QepePf8AhLvG+m2/iLSLTRfEXhmxuLWPR/EcNqbs27TsbdryJkN5JkW1zCsgRFlWRNysAeLeAv8AguL8Ifin4f8AFeseGNM8WeKNF8N3ujWVteaDLpWs/wBuPqupJp9msENpfSzwStI4kNtex21z5SuwhJR1XofDH/BUJfG3xO8CeH9P+EPxChi8TDxG/iC5v9Q0WE+CU0PUE06+e6WO+kSZUuJIsm2kkykg2eY6yRp2Hwv/AGEIPAHg7wV4f1b4mfEnxzpHw91ay1TQrfXRo8f2RbO0mtYLVms7C3aWFRKsmZC0pkgiJk271fHvv+CZnhhkuF03xt8Q9D+3eH/E/h69ayn08tdpr97Nf3lyzS2jslyl3MZo3jKAsieaswGCAcvD/wAFeNFv/g5pXjCz+DPxuvG1fw1J41h0RLPRotTi8Px28Uz6pMsmpJFDFul8lIZJVuZnilMUEkaGStxf+CjWnXXjjWtP8O6B4r+Jk9xrMOj+HdD8N6Pa2l/ehdGstWu7s3V9qENs1tHFqFqjPL9lKTP5AWWQrnf+OX/BPTw18a/EVrdR+KvHPg/SZPDsPg/XNE8PXVpBZeJ9EilaRNPuWmtpbiKPEs8Zezmt5ilxIPMyEK4HxA/4JYeD/GN8l3pvjP4jeD7+SfxIL280C6sLe41Cy16a1kv7Bne0cwwhbGziilt/KuYkt02zhtzkA8303/gof8UPH+h/APWfD8Pg+xs/i42kaqlrq3hPV0t9V0rUdRYqkerGePT7C8h0pRMsDvd3F3M+1LaFApk+6K+f9B/4J+aDonijwm7eNPiFqPg7wNLYXmi+Cby+tZdDsryytVtra6B+zC8JjVBIsBufswlxIIQ4Vh9AUAFFFFABRRRQAUUUUAFFFFABRRRQAUUUUAFFFFABRRRQAUUUUAFFFFABRRRQAUUUUAFFFFABRRRQAUUUUAFFFFABRRRQAUUUUAFFFFABRRRQAUUUUAFFFFAHzF/wVhkKfswQ46PrNsD7jbKf6CvVf2Pv+TXvAf8A2A7X/wBFivKf+Csn/JsVv/2Grf8A9Alr1b9kJCv7L/gHI/5gdoefeNTX0Vb/AJElP/r4/wAj5yj/AMjqp/gX5npFFFFfOn0YUUUUAFFFFABRRRQAUUUUAFFFFABRRRQAUUUUAFFFFABRRRQAUUUUAFFFFABRRRQAUUUUAFFFFABRRRQAUUUUAFFFFABRRRQAUUUUAFFFFABRRRQAUUUUAFFFFABRRRQAUUUUAFFFFABRRRQAUUUUAFFFFABRRRQAUUUUAFFFFABRRRQAUUUUAfMP/BWT/k2O3/7Ddv8A+i5a9c/ZO/5Nl8A/9i/Y/wDohK8f/wCCtM/lfsz2I/56a9bqfb91Mf6V7B+yd/ybL4B/7F+x/wDRCV9DiP8AkS0v8cvyR87Q/wCR1U/wL8z0Kiiivnj6IKKKKACiiigAooooAKKKKACiiigAooooAKKKKACiiigAooooAKKKKACiiigAooooAKKKKACiiigAooooAKKKKACiiigAooooAKKKKACiiigAooooAKKKKACiiigAooooAKKKKACiiigAooooAKKKKACiiigAooooAKKKKACiiigAooooAKKKKAPln/graf8AjGvTf+w9B/6JuK9k/ZQP/GMXgH/sX7H/ANEJXjf/AAVt/wCTa9N/7D0H/om4r2j9lv8A5Np+H/8A2Lmn/wDpNHX0Ff8A5E1L/HL8kfO4f/kcVf8ABH8zvqKKK+fPogooooAKKKKACiiigAooooAKKKKACiiigAooooAKKKKACiiigAooooAKKKKACiiigAooooAKKKKACiiigAooooAKKKKACiiigAooooAKKKKACiiigAooooAKKKKACiiigAooooAKKKKACiiigAooooAKKKKACiiigAooooAKKKKACiiigAooooA8T/bm/Z61r9pf4Q2ug6Dc6Za3lvqcV6zX0jxxlFjkUgFEc5y47Y4PNehfBnwdcfDv4R+F9AvGhkvNF0m1sJ3gJMbyRQojFSQCVypxkA47CupIoIwK6JYupKisO/hTbXqzljg6ca8sSvikkn6IWiiiuc6gooooAKKKKACiiigAooooAKKKKACiiigAooooAKKKKACiiigAooooAKKKKACiiigAooooAKKKKACiiigAooooAKKKKACiiigAooooAKKKKACiiigAooooAKKKKACiiigAooooAKKKKACiiigAooooAKKKKACiiigAooooAKKKKACiiigAooooAKKKKACiiigAooooAKKKKACiiigAooooAKKKKACiiigAooooAKKKKACiiigAooooAKKKKACiiigAooooAKKKKACiiigAooooAKKKKACiiigD/9k=)\n",
        "\n",
        "Dari gambar di atas terlihat bahwa titik baru akan cenderung masuk ke dalam <i>cluster</i> C3, karena titik lebih dekat dengan Centroid3"
      ]
    },
    {
      "cell_type": "markdown",
      "metadata": {
        "id": "Vr3BolCzOHIY"
      },
      "source": [
        "<b>Jika diketahui 3 titik centroid 3 buah cluster adalah C1(12, 8) C2(-7,-2) dan C3(5, -8).\n",
        "\n",
        "Lengkapilah fungsi python di bawah ini, sehingga dapat menerima masukan sebuah titik (x dan y) dan mengeluarkan hasil berupa informasi cluster untuk titik tersebut (C1, C2, ataukah C3)</b>\n",
        "\n",
        "note: silakan pilih salah satu metode penghitungan jarak yang menurut kalian lebih mudah untuk mengukur jarak antara titik baru ke centroid (Eucledian ataukah Manhattan)"
      ]
    },
    {
      "cell_type": "markdown",
      "metadata": {
        "id": "-vo8Z4Whhs8W"
      },
      "source": [
        "JAWAB :"
      ]
    },
    {
      "cell_type": "code",
      "metadata": {
        "colab": {
          "base_uri": "https://localhost:8080/"
        },
        "id": "-yO3cganI-px",
        "outputId": "5fbd3093-677b-4bfa-95c8-d591fbc40f32"
      },
      "source": [
        "def dist(x1, y1, x2, y2):\n",
        "\n",
        "    #Buat fungsi untuk menghitung distance dulu di sini, karena ini akan berulang\n",
        "    #START CODE HERE\n",
        "    dist = abs(x2-x1)+ abs(y2-y1)\n",
        "    \n",
        "    #END CODE HERE\n",
        "    return dist\n",
        "\n",
        "def cluster(x_input, y_input):\n",
        "    c1 = (12, 8)\n",
        "    c2 = (-7, -2)\n",
        "    c3 = (5, -8)\n",
        "\n",
        "    #START CODE HERE\n",
        "    clust_c1 = dist(c1[0],c1[1],x_input,y_input)\n",
        "    clust_c2 = dist(c2[0],c2[1],x_input,y_input)\n",
        "    clust_c3 = dist(c3[0],c2[1],x_input,y_input)\n",
        "    \n",
        "    z=(clust_c1,clust_c2,clust_c3)\n",
        "    \n",
        "    if min(z) == clust_c1:\n",
        "        clust_string = 'C1'\n",
        "    elif min(z) == clust_c2:\n",
        "        clust_string = 'C2'\n",
        "    else:\n",
        "        clust_string = 'C3'\n",
        "\n",
        "    #set keluaran sebagai string \"C1\" atau \"C2\" atau \"C3\"\n",
        "    #END CODE HERE\n",
        "    \n",
        "    return clust_string\n",
        "\n",
        "#JANGAN UBAH BAGIAN SINI\n",
        "x = int(input(\"Masukan titik x:\"))\n",
        "y = int(input(\"Masukan titik y:\"))\n",
        "\n",
        "print(\"Titik di atas ada pada cluster \"+cluster(x,y))"
      ],
      "execution_count": null,
      "outputs": [
        {
          "name": "stdout",
          "output_type": "stream",
          "text": [
            "Masukan titik x:3\n",
            "Masukan titik y:12\n",
            "Titik di atas ada pada cluster C1\n"
          ]
        }
      ]
    }
  ]
}